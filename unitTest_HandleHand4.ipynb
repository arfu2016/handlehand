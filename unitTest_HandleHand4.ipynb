{
 "cells": [
  {
   "cell_type": "code",
   "execution_count": 8,
   "metadata": {
    "collapsed": false
   },
   "outputs": [],
   "source": [
    "#!/usr/bin/env python\n",
    "\n",
    "mydata=dict(\n",
    "    file1 = 'regex_sum_42.txt',\n",
    "    file2 = 'regex_sum_267269.txt'\n",
    "    )"
   ]
  },
  {
   "cell_type": "code",
   "execution_count": 9,
   "metadata": {
    "collapsed": true
   },
   "outputs": [],
   "source": [
    "import re\n",
    "\n",
    "class HandleHand(file):\n",
    "    \n",
    "    def __init__(self,name):\n",
    "        file.__init__(self,name)\n",
    "        \n",
    "    def handle(self):\n",
    "        a_list=[]\n",
    "        for line in self:\n",
    "            #b_list=re.findall('\\d+',line)\n",
    "            b_list=re.findall('[0-9]+',line)\n",
    "            a_list.extend(b_list)\n",
    "        c_list=[int(elem) for elem in a_list]\n",
    "        return sum(c_list)"
   ]
  },
  {
   "cell_type": "code",
   "execution_count": 10,
   "metadata": {
    "collapsed": false
   },
   "outputs": [],
   "source": [
    "import unittest\n",
    "import os\n",
    "\n",
    "datadir=os.path.join(os.path.expanduser('~'),'Documents','workspace','data')\n",
    "    \n",
    "class TestMyClass(unittest.TestCase):\n",
    "    \n",
    "    hand1=os.path.join(datadir, mydata['file1'])\n",
    "    hand2=os.path.join(datadir, mydata['file2'])\n",
    "    #AttributeError: 'dict' object has no attribute 'file2'\n",
    "    \n",
    "    def test_sum1(self):\n",
    "        self.assertEqual(HandleHand(self.hand1).handle(), 445822)\n",
    "        \n",
    "    def test_sum2(self):\n",
    "        self.assertEqual(HandleHand(self.hand2).handle(), 456992)        "
   ]
  },
  {
   "cell_type": "code",
   "execution_count": 11,
   "metadata": {
    "collapsed": false
   },
   "outputs": [
    {
     "name": "stderr",
     "output_type": "stream",
     "text": [
      "..\n",
      "----------------------------------------------------------------------\n",
      "Ran 2 tests in 0.011s\n",
      "\n",
      "OK\n"
     ]
    },
    {
     "data": {
      "text/plain": [
       "<unittest.runner.TextTestResult run=2 errors=0 failures=0>"
      ]
     },
     "execution_count": 11,
     "metadata": {},
     "output_type": "execute_result"
    }
   ],
   "source": [
    "suite = unittest.TestLoader().loadTestsFromTestCase(TestMyClass)\n",
    "unittest.TextTestRunner().run(suite)"
   ]
  }
 ],
 "metadata": {
  "kernelspec": {
   "display_name": "Python 2",
   "language": "python",
   "name": "python2"
  },
  "language_info": {
   "codemirror_mode": {
    "name": "ipython",
    "version": 2
   },
   "file_extension": ".py",
   "mimetype": "text/x-python",
   "name": "python",
   "nbconvert_exporter": "python",
   "pygments_lexer": "ipython2",
   "version": "2.7.5"
  }
 },
 "nbformat": 4,
 "nbformat_minor": 0
}
