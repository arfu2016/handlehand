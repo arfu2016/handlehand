{
 "cells": [
  {
   "cell_type": "code",
   "execution_count": 18,
   "metadata": {
    "collapsed": true
   },
   "outputs": [],
   "source": [
    "#!/usr/bin/env python\n",
    "\n",
    "import re\n",
    "\n",
    "class HandleHand:\n",
    "        \n",
    "    def handle(self,hand):\n",
    "        self.hand=hand\n",
    "        a_list=[]\n",
    "        for line in self.hand:\n",
    "#            b_list=re.findall('\\d+',line)\n",
    "            b_list=re.findall('[0-9]+',line)\n",
    "            a_list.extend(b_list)\n",
    "        c_list=[int(elem) for elem in a_list]\n",
    "        return sum(c_list)"
   ]
  },
  {
   "cell_type": "code",
   "execution_count": 19,
   "metadata": {
    "collapsed": false
   },
   "outputs": [],
   "source": [
    "import unittest\n",
    "    \n",
    "class TestMyFunctions(unittest.TestCase):\n",
    "    \n",
    "    hand1=open('/Users/arfu/Documents/workspace/data/regex_sum_42.txt','r')\n",
    "    hand2=open('/Users/arfu/Documents/workspace/data/regex_sum_267269.txt','r')\n",
    "    \n",
    "    def test_sum_class1(self):\n",
    "        self.assertEqual(HandleHand().handle(self.hand1), 445822)\n",
    "        \n",
    "    def test_sum_class2(self):\n",
    "        self.assertEqual(HandleHand().handle(self.hand2), 456992)        "
   ]
  },
  {
   "cell_type": "code",
   "execution_count": 20,
   "metadata": {
    "collapsed": false
   },
   "outputs": [
    {
     "name": "stderr",
     "output_type": "stream",
     "text": [
      "..\n",
      "----------------------------------------------------------------------\n",
      "Ran 2 tests in 0.013s\n",
      "\n",
      "OK\n"
     ]
    },
    {
     "data": {
      "text/plain": [
       "<unittest.runner.TextTestResult run=2 errors=0 failures=0>"
      ]
     },
     "execution_count": 20,
     "metadata": {},
     "output_type": "execute_result"
    }
   ],
   "source": [
    "suite = unittest.TestLoader().loadTestsFromTestCase(TestMyFunctions)\n",
    "unittest.TextTestRunner().run(suite)"
   ]
  }
 ],
 "metadata": {
  "kernelspec": {
   "display_name": "Python 2",
   "language": "python",
   "name": "python2"
  },
  "language_info": {
   "codemirror_mode": {
    "name": "ipython",
    "version": 2
   },
   "file_extension": ".py",
   "mimetype": "text/x-python",
   "name": "python",
   "nbconvert_exporter": "python",
   "pygments_lexer": "ipython2",
   "version": "2.7.5"
  }
 },
 "nbformat": 4,
 "nbformat_minor": 0
}
